{
 "cells": [
  {
   "cell_type": "code",
   "execution_count": 1,
   "id": "24a975d0",
   "metadata": {},
   "outputs": [],
   "source": [
    "import polars as pl\n",
    "from transformers import AutoTokenizer, AutoModel\n",
    "from torch.utils.data import Dataset, DataLoader\n",
    "import torch\n",
    "import torch.nn as nn\n",
    "\n",
    "tokenizer = AutoTokenizer.from_pretrained(\"bert-base-uncased\")"
   ]
  },
  {
   "cell_type": "code",
   "execution_count": 2,
   "id": "f0439105",
   "metadata": {},
   "outputs": [],
   "source": [
    "label2id = {\"O\": 0, \"B-ASP\": 1, \"I-ASP\": 2}\n",
    "id2label = {v: k for k, v in label2id.items()}"
   ]
  },
  {
   "cell_type": "code",
   "execution_count": 3,
   "id": "22cc887e",
   "metadata": {},
   "outputs": [],
   "source": [
    "df=pl.read_parquet(\"../data/processed/df_aspect_pos.parquet\")"
   ]
  },
  {
   "cell_type": "code",
   "execution_count": 4,
   "id": "763c6f3b",
   "metadata": {},
   "outputs": [
    {
     "data": {
      "text/plain": [
       "['input_ids',\n",
       " 'attention_mask',\n",
       " 'labels',\n",
       " 'aspects_index',\n",
       " 'aspects_sentiment',\n",
       " 'type']"
      ]
     },
     "execution_count": 4,
     "metadata": {},
     "output_type": "execute_result"
    }
   ],
   "source": [
    "df.columns"
   ]
  },
  {
   "cell_type": "code",
   "execution_count": 5,
   "id": "e1fdda69",
   "metadata": {},
   "outputs": [],
   "source": [
    "def custom_collate_fn(batch):\n",
    "    input_ids = torch.stack([item[\"input_ids\"] for item in batch])\n",
    "    attention_mask = torch.stack([item[\"attention_mask\"] for item in batch])\n",
    "    labels = torch.stack([item[\"labels\"] for item in batch])\n",
    "\n",
    "    aspects_index = [item[\"aspects_index\"] for item in batch]          # List[List[List[int]]]\n",
    "    aspects_sentiment = [item[\"aspects_sentiment\"] for item in batch]  # List[List[int]]\n",
    "\n",
    "    return {\n",
    "        \"input_ids\": input_ids,\n",
    "        \"attention_mask\": attention_mask,\n",
    "        \"labels\": labels,\n",
    "        \"aspects_index\": aspects_index,\n",
    "        \"aspects_sentiment\": aspects_sentiment,\n",
    "    }\n"
   ]
  },
  {
   "cell_type": "code",
   "execution_count": 6,
   "id": "1ef7f8c0",
   "metadata": {},
   "outputs": [],
   "source": [
    "def extract_aspect_spans(pred_labels):\n",
    "    spans = []\n",
    "    i = 0\n",
    "    while i < len(pred_labels):\n",
    "        if pred_labels[i] == 1:  # B-ASP\n",
    "            start = i\n",
    "            i += 1\n",
    "            while i < len(pred_labels) and pred_labels[i] == 2:  # I-ASP\n",
    "                i += 1\n",
    "            end = i - 1\n",
    "            spans.append([start, end])\n",
    "        else:\n",
    "            i += 1\n",
    "    return spans"
   ]
  },
  {
   "cell_type": "code",
   "execution_count": 7,
   "id": "6d3d111d",
   "metadata": {},
   "outputs": [],
   "source": [
    "class CustomDataset(Dataset):\n",
    "    def __init__(self, df):\n",
    "        self.input_ids = df[\"input_ids\"].to_numpy()\n",
    "        self.attention_mask = df[\"attention_mask\"].to_numpy()\n",
    "        self.labels = df[\"labels\"].to_numpy()\n",
    "        self.aspects_index = df[\"aspects_index\"].to_list()\n",
    "        self.aspects_sentiment = df[\"aspects_sentiment\"].to_list()\n",
    "\n",
    "    def __len__(self):\n",
    "        return len(self.input_ids)\n",
    "\n",
    "    def __getitem__(self, idx):\n",
    "        return {\n",
    "            \"input_ids\": torch.tensor(self.input_ids[idx], dtype=torch.long),\n",
    "            \"attention_mask\": torch.tensor(self.attention_mask[idx], dtype=torch.long),\n",
    "            \"labels\": torch.tensor(self.labels[idx], dtype=torch.long),\n",
    "            \"aspects_index\": self.aspects_index[idx],           # list of [start, end]\n",
    "            \"aspects_sentiment\": self.aspects_sentiment[idx],   # list of sentiment values\n",
    "        }\n",
    "\n",
    "\n",
    "batch_size = 32\n",
    "train_dataset = CustomDataset(df.filter(pl.col(\"type\") != \"val\"))\n",
    "val_dataset = CustomDataset(df.filter(pl.col(\"type\") == \"val\"))\n",
    "test_dataset = CustomDataset(df.filter(pl.col(\"type\") == \"test\"))\n",
    "val_dataloader = DataLoader(val_dataset, batch_size=batch_size , collate_fn=custom_collate_fn)\n",
    "test_dataloader = DataLoader(test_dataset, batch_size=batch_size, collate_fn=custom_collate_fn)\n",
    "train_dataloader = DataLoader(train_dataset, batch_size=batch_size, shuffle=True, collate_fn=custom_collate_fn)\n"
   ]
  },
  {
   "cell_type": "code",
   "execution_count": 8,
   "id": "d15b8f92",
   "metadata": {},
   "outputs": [
    {
     "name": "stdout",
     "output_type": "stream",
     "text": [
      "torch.Size([32, 128])\n",
      "torch.Size([32, 128])\n",
      "torch.Size([32, 128])\n",
      "[[1, 1, 1], [1], [1, 0], [1], [1, 0], [0], [1], [1], [1], [0], [1], [2], [0], [1], [1], [0], [1], [1, 0], [1, 1, 1], [1], [0], [1, 1], [0], [0], [1], [1], [0, 0], [1], [0], [1], [0, 1], [2]]\n",
      "[[[2, 2], [10, 10], [14, 14]], [[2, 2]], [[3, 3], [26, 27]], [[2, 2]], [[2, 2], [9, 9]], [[5, 5]], [[5, 5]], [[7, 7]], [[2, 2]], [[13, 13]], [[2, 2]], [[2, 2]], [[3, 3]], [[15, 15]], [[11, 11]], [[5, 5]], [[12, 13]], [[17, 17], [2, 2]], [[13, 13], [19, 19], [22, 22]], [[4, 5]], [[6, 6]], [[1, 1], [11, 13]], [[7, 9]], [[1, 2]], [[1, 1]], [[2, 2]], [[2, 2], [11, 11]], [[2, 2]], [[2, 2]], [[8, 8]], [[2, 2], [17, 17]], [[2, 2]]]\n"
     ]
    }
   ],
   "source": [
    "for batch in train_dataloader:\n",
    "    print(batch[\"input_ids\"].shape)\n",
    "    print(batch[\"attention_mask\"].shape)\n",
    "    print(batch[\"labels\"].shape)\n",
    "    print(batch[\"aspects_sentiment\"])\n",
    "    print(batch[\"aspects_index\"])\n",
    "    break"
   ]
  },
  {
   "cell_type": "code",
   "execution_count": 9,
   "id": "769844cb",
   "metadata": {},
   "outputs": [],
   "source": [
    "class AspectDetectionModel(nn.Module):\n",
    "    def __init__(self):\n",
    "        super(AspectDetectionModel, self).__init__()\n",
    "        self.bert = AutoModel.from_pretrained(\"bert-base-uncased\")\n",
    "        self.dropout = nn.Dropout(0.3)\n",
    "        self.classifier = nn.Linear(self.bert.config.hidden_size, len(label2id))\n",
    "        self.sentiment_classifier = nn.Linear(self.bert.config.hidden_size, 3)  # positive, negative, neutral\n",
    "\n",
    "    def forward(self, input_ids, attention_mask):\n",
    "        outputs = self.bert(input_ids=input_ids, attention_mask=attention_mask)\n",
    "        sequence_output = self.dropout(outputs.last_hidden_state)  # [B, L, H]\n",
    "        logits = self.classifier(sequence_output)  # [B, L, num_labels]\n",
    "        return logits, sequence_output\n",
    "\n",
    "model = AspectDetectionModel().to(\"mps\")\n",
    "criterion = nn.CrossEntropyLoss(ignore_index=-100)\n",
    "# optimizer = torch.optim.Adam(model.parameters(), lr=1e-5)\n",
    "optimizer = optimizer = torch.optim.AdamW([\n",
    "    {'params': model.bert.parameters(), 'lr': 2e-5},\n",
    "    {'params': model.classifier.parameters(), 'lr': 5e-5},\n",
    "    {'params': model.sentiment_classifier.parameters(), 'lr': 5e-5}\n",
    "])\n",
    "scheduler = torch.optim.lr_scheduler.StepLR(optimizer, step_size=3, gamma=0.8)"
   ]
  },
  {
   "cell_type": "code",
   "execution_count": null,
   "id": "6075974f",
   "metadata": {},
   "outputs": [
    {
     "name": "stdout",
     "output_type": "stream",
     "text": [
      "Epoch [1/20], Train Aspect Loss: 1.2302, Train Sentiment Loss: 0.2913, Val Aspect Loss: 1.2678, Val Sentiment Loss: 0.3287\n",
      "Epoch [2/20], Train Aspect Loss: 1.2532, Train Sentiment Loss: 0.2033, Val Aspect Loss: 1.2364, Val Sentiment Loss: 0.2798\n",
      "Epoch [3/20], Train Aspect Loss: 1.2745, Train Sentiment Loss: 0.1448, Val Aspect Loss: 1.2950, Val Sentiment Loss: 0.3547\n",
      "Epoch [4/20], Train Aspect Loss: 1.2728, Train Sentiment Loss: 0.1073, Val Aspect Loss: 1.2714, Val Sentiment Loss: 0.3511\n",
      "Epoch [5/20], Train Aspect Loss: 1.2672, Train Sentiment Loss: 0.0797, Val Aspect Loss: 1.2999, Val Sentiment Loss: 0.3814\n",
      "Epoch [6/20], Train Aspect Loss: 1.2770, Train Sentiment Loss: 0.0562, Val Aspect Loss: 1.2683, Val Sentiment Loss: 0.3613\n",
      "Epoch [7/20], Train Aspect Loss: 1.2575, Train Sentiment Loss: 0.0469, Val Aspect Loss: 1.2739, Val Sentiment Loss: 0.3880\n",
      "Epoch [8/20], Train Aspect Loss: 1.2410, Train Sentiment Loss: 0.0360, Val Aspect Loss: 1.2574, Val Sentiment Loss: 0.4583\n",
      "Epoch [9/20], Train Aspect Loss: 1.2527, Train Sentiment Loss: 0.0276, Val Aspect Loss: 1.2886, Val Sentiment Loss: 0.4459\n",
      "Epoch [10/20], Train Aspect Loss: 1.2530, Train Sentiment Loss: 0.0251, Val Aspect Loss: 1.2592, Val Sentiment Loss: 0.4127\n",
      "Epoch [11/20], Train Aspect Loss: 1.2386, Train Sentiment Loss: 0.0215, Val Aspect Loss: 1.2287, Val Sentiment Loss: 0.4734\n",
      "Epoch [12/20], Train Aspect Loss: 1.2104, Train Sentiment Loss: 0.0189, Val Aspect Loss: 1.2181, Val Sentiment Loss: 0.4448\n",
      "Epoch [13/20], Train Aspect Loss: 1.2104, Train Sentiment Loss: 0.0173, Val Aspect Loss: 1.2134, Val Sentiment Loss: 0.4587\n",
      "Epoch [14/20], Train Aspect Loss: 1.2029, Train Sentiment Loss: 0.0151, Val Aspect Loss: 1.2011, Val Sentiment Loss: 0.4366\n",
      "Epoch [15/20], Train Aspect Loss: 1.1935, Train Sentiment Loss: 0.0130, Val Aspect Loss: 1.2081, Val Sentiment Loss: 0.4547\n",
      "Epoch [16/20], Train Aspect Loss: 1.1995, Train Sentiment Loss: 0.0141, Val Aspect Loss: 1.2092, Val Sentiment Loss: 0.4659\n",
      "Epoch [17/20], Train Aspect Loss: 1.2016, Train Sentiment Loss: 0.0116, Val Aspect Loss: 1.2093, Val Sentiment Loss: 0.4689\n",
      "Epoch [18/20], Train Aspect Loss: 1.2058, Train Sentiment Loss: 0.0123, Val Aspect Loss: 1.2147, Val Sentiment Loss: 0.4916\n",
      "Epoch [19/20], Train Aspect Loss: 1.2115, Train Sentiment Loss: 0.0125, Val Aspect Loss: 1.2252, Val Sentiment Loss: 0.4976\n",
      "Epoch [20/20], Train Aspect Loss: 1.2113, Train Sentiment Loss: 0.0105, Val Aspect Loss: 1.2233, Val Sentiment Loss: 0.4626\n"
     ]
    }
   ],
   "source": [
    "num_epochs = 20\n",
    "\n",
    "for epoch in range(num_epochs):\n",
    "    total_aspect_train_loss = 0\n",
    "    total_sentiment_train_loss = 0\n",
    "    total_aspect_val_loss = 0\n",
    "    total_sentiment_val_loss = 0\n",
    "\n",
    "    model.train()\n",
    "    total_train_loss = 0\n",
    "\n",
    "    for batch in train_dataloader:\n",
    "        input_ids = batch[\"input_ids\"].to(\"mps\")\n",
    "        attention_mask = batch[\"attention_mask\"].to(\"mps\")\n",
    "        labels = batch[\"labels\"].to(\"mps\")\n",
    "\n",
    "        # logits contains the aspect extraction head output and sequence_output contains the contextualized embeddings\n",
    "        logits, sequence_output = model(input_ids, attention_mask)\n",
    "        loss = criterion(logits.view(-1, len(label2id)), labels.view(-1))\n",
    "        total_aspect_train_loss += loss.item()\n",
    "\n",
    "        sentiment_losses = []\n",
    "        for i in range(len(input_ids)):\n",
    "            for aspect_index, sentiment in zip(batch[\"aspects_index\"][i], batch[\"aspects_sentiment\"][i]):\n",
    "                if aspect_index[1] >= sequence_output.size(1):\n",
    "                    continue\n",
    "                # Assume the aspect span is a list of words ['chrome', '##book'], BIO tags are ['B-ASP', 'I-ASP'], and indices are [15, 16]\n",
    "                # Each word in the aspect span have its own embedding in the sequence output\n",
    "                # We take the mean of the embeddings for the aspect span\n",
    "                # aspect_index = [15, 16] means we take the mean of sequence_output[i, 15:17]\n",
    "                pooled = sequence_output[i, aspect_index[0]:aspect_index[1]+1].mean(dim=0)\n",
    "                sentiment_logits = model.sentiment_classifier(pooled.unsqueeze(0))\n",
    "                sentiment_target = torch.tensor([sentiment], dtype=torch.long).to(\"mps\")\n",
    "                sentiment_loss = criterion(sentiment_logits.view(-1, 3), sentiment_target)\n",
    "                sentiment_losses.append(sentiment_loss)\n",
    "\n",
    "\n",
    "        if sentiment_losses:\n",
    "            sentiment_loss = torch.stack(sentiment_losses).mean()\n",
    "        else:\n",
    "            sentiment_loss = torch.tensor(0.0).to(\"mps\")\n",
    "\n",
    "        total_sentiment_train_loss += sentiment_loss.item()\n",
    "        total_loss = aspect_loss + sentiment_loss\n",
    "\n",
    "        total_loss.backward()\n",
    "        optimizer.step()\n",
    "        optimizer.zero_grad()\n",
    "\n",
    "    with torch.no_grad():\n",
    "        model.eval()\n",
    "\n",
    "        for batch in val_dataloader:\n",
    "            input_ids = batch[\"input_ids\"].to(\"mps\")\n",
    "            attention_mask = batch[\"attention_mask\"].to(\"mps\")\n",
    "            labels = batch[\"labels\"].to(\"mps\")\n",
    "\n",
    "            logits, sequence_output = model(input_ids, attention_mask)\n",
    "            aspect_loss = criterion(logits.view(-1, len(label2id)), labels.view(-1))\n",
    "            total_aspect_val_loss += aspect_loss.item()\n",
    "\n",
    "            sentiment_losses = []\n",
    "            preds = torch.argmax(logits, dim=2)\n",
    "            for i in range(len(input_ids)):\n",
    "                # During training, I used the existing aspect spans from the training data. But during evaluation, \n",
    "                # I will extract the aspect spans from the predicted labels\n",
    "                # This is because the aspect spans are not available in the validation data\n",
    "                # I will use the predicted labels to extract the aspect spans\n",
    "                # The predicted labels are in the form of BIO tags \n",
    "                aspects = extract_aspect_spans(preds[i].cpu().tolist())\n",
    "                for aspect_index, sentiment in zip(batch[\"aspects_index\"][i], batch[\"aspects_sentiment\"][i]):\n",
    "                    if aspect_index in aspects and aspect_index[1] < sequence_output.size(1):\n",
    "                        pooled = sequence_output[i, aspect_index[0]:aspect_index[1]+1].mean(dim=0)\n",
    "                        sentiment_logits = model.sentiment_classifier(pooled.unsqueeze(0))\n",
    "                        sentiment_target = torch.tensor([sentiment], dtype=torch.long).to(\"mps\")\n",
    "                        sentiment_loss = criterion(sentiment_logits.view(-1, 3), sentiment_target)\n",
    "                        sentiment_losses.append(sentiment_loss)\n",
    "\n",
    "            if sentiment_losses:\n",
    "                sentiment_loss = torch.stack(sentiment_losses).mean()\n",
    "            else:\n",
    "                sentiment_loss = torch.tensor(0.0).to(\"mps\")\n",
    "\n",
    "            total_sentiment_val_loss += sentiment_loss.item()\n",
    "\n",
    "    scheduler.step()\n",
    "    print(f\"Epoch [{epoch+1}/{num_epochs}], \"\n",
    "        f\"Train Aspect Loss: {total_aspect_train_loss/len(train_dataloader):.4f}, \"\n",
    "        f\"Train Sentiment Loss: {total_sentiment_train_loss/len(train_dataloader):.4f}, \"\n",
    "        f\"Val Aspect Loss: {total_aspect_val_loss/len(val_dataloader):.4f}, \"\n",
    "        f\"Val Sentiment Loss: {total_sentiment_val_loss/len(val_dataloader):.4f}\")\n",
    "\n"
   ]
  },
  {
   "cell_type": "code",
   "execution_count": null,
   "id": "2e18f56e",
   "metadata": {},
   "outputs": [
    {
     "name": "stdout",
     "output_type": "stream",
     "text": [
      "Model saved successfully to ../models/AspectDetectionModel/\n"
     ]
    }
   ],
   "source": [
    "import os\n",
    "\n",
    "name=\"AspectDetectionModel_Sentiment_Analysis\"\n",
    "\n",
    "os.makedirs(\"../models/AspectDetectionModel\", exist_ok=True)\n",
    "\n",
    "torch.save(model.state_dict(), \"../models/AspectDetectionModel/\" + name + \".pth\")\n",
    "\n",
    "model_config = {\n",
    "\t\"hidden_size\": model.bert.config.hidden_size,\n",
    "\t\"num_labels\": len(label2id),\n",
    "\t\"id2label\": id2label,\n",
    "\t\"label2id\": label2id,\n",
    "\t\"name\": name\n",
    "}\n",
    "\n",
    "import json\n",
    "with open(f\"../models/AspectDetectionModel/{name}_config.json\", \"w\") as f:\n",
    "\tjson.dump(model_config, f)\n",
    "\n",
    "print(\"Model saved successfully to ../models/AspectDetectionModel/\")"
   ]
  },
  {
   "cell_type": "code",
   "execution_count": 10,
   "id": "07c62198",
   "metadata": {},
   "outputs": [
    {
     "data": {
      "text/plain": [
       "AspectDetectionModel(\n",
       "  (bert): BertModel(\n",
       "    (embeddings): BertEmbeddings(\n",
       "      (word_embeddings): Embedding(30522, 768, padding_idx=0)\n",
       "      (position_embeddings): Embedding(512, 768)\n",
       "      (token_type_embeddings): Embedding(2, 768)\n",
       "      (LayerNorm): LayerNorm((768,), eps=1e-12, elementwise_affine=True)\n",
       "      (dropout): Dropout(p=0.1, inplace=False)\n",
       "    )\n",
       "    (encoder): BertEncoder(\n",
       "      (layer): ModuleList(\n",
       "        (0-11): 12 x BertLayer(\n",
       "          (attention): BertAttention(\n",
       "            (self): BertSdpaSelfAttention(\n",
       "              (query): Linear(in_features=768, out_features=768, bias=True)\n",
       "              (key): Linear(in_features=768, out_features=768, bias=True)\n",
       "              (value): Linear(in_features=768, out_features=768, bias=True)\n",
       "              (dropout): Dropout(p=0.1, inplace=False)\n",
       "            )\n",
       "            (output): BertSelfOutput(\n",
       "              (dense): Linear(in_features=768, out_features=768, bias=True)\n",
       "              (LayerNorm): LayerNorm((768,), eps=1e-12, elementwise_affine=True)\n",
       "              (dropout): Dropout(p=0.1, inplace=False)\n",
       "            )\n",
       "          )\n",
       "          (intermediate): BertIntermediate(\n",
       "            (dense): Linear(in_features=768, out_features=3072, bias=True)\n",
       "            (intermediate_act_fn): GELUActivation()\n",
       "          )\n",
       "          (output): BertOutput(\n",
       "            (dense): Linear(in_features=3072, out_features=768, bias=True)\n",
       "            (LayerNorm): LayerNorm((768,), eps=1e-12, elementwise_affine=True)\n",
       "            (dropout): Dropout(p=0.1, inplace=False)\n",
       "          )\n",
       "        )\n",
       "      )\n",
       "    )\n",
       "    (pooler): BertPooler(\n",
       "      (dense): Linear(in_features=768, out_features=768, bias=True)\n",
       "      (activation): Tanh()\n",
       "    )\n",
       "  )\n",
       "  (dropout): Dropout(p=0.3, inplace=False)\n",
       "  (classifier): Linear(in_features=768, out_features=3, bias=True)\n",
       "  (sentiment_classifier): Linear(in_features=768, out_features=3, bias=True)\n",
       ")"
      ]
     },
     "execution_count": 10,
     "metadata": {},
     "output_type": "execute_result"
    }
   ],
   "source": [
    "name=\"AspectDetectionModel_Sentiment_Analysis\"\n",
    "model = AspectDetectionModel()\n",
    "model.load_state_dict(torch.load(\"../models/AspectDetectionModel/\" + name + \".pth\"))\n",
    "model = model.to(\"mps\")\n",
    "model.eval()"
   ]
  },
  {
   "cell_type": "code",
   "execution_count": 11,
   "id": "ee4af7a4",
   "metadata": {},
   "outputs": [
    {
     "name": "stdout",
     "output_type": "stream",
     "text": [
      "{'input_ids': [101, 1996, 2833, 2003, 2307, 1010, 2021, 1996, 2572, 11283, 5897, 2003, 2919, 102, 0, 0, 0, 0, 0, 0, 0, 0, 0, 0, 0, 0, 0, 0, 0, 0, 0, 0, 0, 0, 0, 0, 0, 0, 0, 0, 0, 0, 0, 0, 0, 0, 0, 0, 0, 0, 0, 0, 0, 0, 0, 0, 0, 0, 0, 0, 0, 0, 0, 0, 0, 0, 0, 0, 0, 0, 0, 0, 0, 0, 0, 0, 0, 0, 0, 0, 0, 0, 0, 0, 0, 0, 0, 0, 0, 0, 0, 0, 0, 0, 0, 0, 0, 0, 0, 0, 0, 0, 0, 0, 0, 0, 0, 0, 0, 0, 0, 0, 0, 0, 0, 0, 0, 0, 0, 0, 0, 0, 0, 0, 0, 0, 0, 0], 'token_type_ids': [0, 0, 0, 0, 0, 0, 0, 0, 0, 0, 0, 0, 0, 0, 0, 0, 0, 0, 0, 0, 0, 0, 0, 0, 0, 0, 0, 0, 0, 0, 0, 0, 0, 0, 0, 0, 0, 0, 0, 0, 0, 0, 0, 0, 0, 0, 0, 0, 0, 0, 0, 0, 0, 0, 0, 0, 0, 0, 0, 0, 0, 0, 0, 0, 0, 0, 0, 0, 0, 0, 0, 0, 0, 0, 0, 0, 0, 0, 0, 0, 0, 0, 0, 0, 0, 0, 0, 0, 0, 0, 0, 0, 0, 0, 0, 0, 0, 0, 0, 0, 0, 0, 0, 0, 0, 0, 0, 0, 0, 0, 0, 0, 0, 0, 0, 0, 0, 0, 0, 0, 0, 0, 0, 0, 0, 0, 0, 0], 'attention_mask': [1, 1, 1, 1, 1, 1, 1, 1, 1, 1, 1, 1, 1, 1, 0, 0, 0, 0, 0, 0, 0, 0, 0, 0, 0, 0, 0, 0, 0, 0, 0, 0, 0, 0, 0, 0, 0, 0, 0, 0, 0, 0, 0, 0, 0, 0, 0, 0, 0, 0, 0, 0, 0, 0, 0, 0, 0, 0, 0, 0, 0, 0, 0, 0, 0, 0, 0, 0, 0, 0, 0, 0, 0, 0, 0, 0, 0, 0, 0, 0, 0, 0, 0, 0, 0, 0, 0, 0, 0, 0, 0, 0, 0, 0, 0, 0, 0, 0, 0, 0, 0, 0, 0, 0, 0, 0, 0, 0, 0, 0, 0, 0, 0, 0, 0, 0, 0, 0, 0, 0, 0, 0, 0, 0, 0, 0, 0, 0]}\n"
     ]
    }
   ],
   "source": [
    "temp = tokenizer((\"\"\"the food is great, but the ambience is bad\"\"\").split(), is_split_into_words=True,\n",
    "                          truncation=True,\n",
    "                          padding=\"max_length\",\n",
    "                          max_length=128)\n",
    "\n",
    "print(temp)"
   ]
  },
  {
   "cell_type": "code",
   "execution_count": 15,
   "id": "28521159",
   "metadata": {},
   "outputs": [
    {
     "data": {
      "text/plain": [
       "tensor([0, 0, 0, 0, 0, 0, 0, 0, 0, 0, 0, 0, 0, 0, 0, 0, 0, 0, 0, 0, 0, 0, 0, 0,\n",
       "        0, 0, 0, 0, 0, 0, 0, 0, 0, 0, 0, 0, 0, 0, 0, 0, 0, 0, 0, 0, 0, 0, 0, 0,\n",
       "        0, 0, 0, 0, 0, 0, 0, 0, 0, 0, 0, 0, 0, 0, 0, 0, 0, 0, 0, 0, 0, 0, 0, 0,\n",
       "        0, 0, 0, 0, 0, 0, 0, 0, 0, 0, 0, 0, 0, 0, 0, 0, 0, 0, 0, 0, 0, 0, 0, 0,\n",
       "        0, 0, 0, 0, 0, 0, 0, 0, 0, 0, 0, 0, 0, 0, 0, 0, 0, 0, 0, 0, 0, 0, 0, 0,\n",
       "        0, 0, 0, 0, 0, 0, 0, 0], device='mps:0')"
      ]
     },
     "execution_count": 15,
     "metadata": {},
     "output_type": "execute_result"
    }
   ],
   "source": [
    "device=\"mps\"\n",
    "model.eval()\n",
    "with torch.no_grad():\n",
    "\n",
    "    \n",
    "    input_ids = torch.tensor(temp[\"input_ids\"], dtype=torch.long).unsqueeze(0).to(device)\n",
    "    attention_mask = torch.tensor(temp[\"attention_mask\"], dtype=torch.long).unsqueeze(0).to(device)\n",
    "\n",
    "    logits, sequence_output = model(input_ids, attention_mask)\n",
    "    # decode the logits to get the predicted labels\n",
    "    preds = torch.argmax(logits, dim=2)[0]\n",
    "    aspects = extract_aspect_spans(preds.cpu().tolist())\n",
    "    sentiment_logits=None\n",
    "    for aspect in aspects:\n",
    "        pooled = sequence_output[0, aspect[0]:aspect[1]+1].mean(dim=0)\n",
    "        sentiment_logits = model.sentiment_classifier(pooled.unsqueeze(0))\n",
    "\n",
    "preds"
   ]
  },
  {
   "cell_type": "code",
   "execution_count": 16,
   "id": "000e9f49",
   "metadata": {},
   "outputs": [],
   "source": [
    "sentiment_logits"
   ]
  },
  {
   "cell_type": "code",
   "execution_count": 17,
   "id": "838e4123",
   "metadata": {},
   "outputs": [
    {
     "data": {
      "text/plain": [
       "[]"
      ]
     },
     "execution_count": 17,
     "metadata": {},
     "output_type": "execute_result"
    }
   ],
   "source": [
    "aspects"
   ]
  },
  {
   "cell_type": "code",
   "execution_count": 18,
   "id": "4ba38ea4",
   "metadata": {},
   "outputs": [
    {
     "data": {
      "text/plain": [
       "'B-ASP'"
      ]
     },
     "execution_count": 18,
     "metadata": {},
     "output_type": "execute_result"
    }
   ],
   "source": [
    "id2label[1]"
   ]
  },
  {
   "cell_type": "code",
   "execution_count": 51,
   "id": "c3fdf2f8",
   "metadata": {},
   "outputs": [
    {
     "data": {
      "text/plain": [
       "['O',\n",
       " 'O',\n",
       " 'B-ASP',\n",
       " 'O',\n",
       " 'O',\n",
       " 'O',\n",
       " 'O',\n",
       " 'O',\n",
       " 'B-ASP',\n",
       " 'B-ASP',\n",
       " 'B-ASP',\n",
       " 'O',\n",
       " 'O',\n",
       " 'O',\n",
       " 'O',\n",
       " 'O',\n",
       " 'O',\n",
       " 'O',\n",
       " 'O',\n",
       " 'O',\n",
       " 'O',\n",
       " 'O',\n",
       " 'O',\n",
       " 'O',\n",
       " 'O',\n",
       " 'O',\n",
       " 'O',\n",
       " 'O',\n",
       " 'O',\n",
       " 'B-ASP',\n",
       " 'O',\n",
       " 'O',\n",
       " 'O',\n",
       " 'O',\n",
       " 'O',\n",
       " 'O',\n",
       " 'O',\n",
       " 'O',\n",
       " 'O',\n",
       " 'O',\n",
       " 'O',\n",
       " 'O',\n",
       " 'O',\n",
       " 'O',\n",
       " 'O',\n",
       " 'O',\n",
       " 'O',\n",
       " 'O',\n",
       " 'O',\n",
       " 'O',\n",
       " 'O',\n",
       " 'O',\n",
       " 'O',\n",
       " 'O',\n",
       " 'O',\n",
       " 'O',\n",
       " 'O',\n",
       " 'B-ASP',\n",
       " 'O',\n",
       " 'O',\n",
       " 'O',\n",
       " 'O',\n",
       " 'O',\n",
       " 'O',\n",
       " 'O',\n",
       " 'O',\n",
       " 'O',\n",
       " 'O',\n",
       " 'O',\n",
       " 'O',\n",
       " 'O',\n",
       " 'O',\n",
       " 'O',\n",
       " 'O',\n",
       " 'O',\n",
       " 'O',\n",
       " 'O',\n",
       " 'O',\n",
       " 'O',\n",
       " 'O',\n",
       " 'O',\n",
       " 'O',\n",
       " 'O',\n",
       " 'O',\n",
       " 'O',\n",
       " 'O',\n",
       " 'B-ASP',\n",
       " 'O',\n",
       " 'O',\n",
       " 'O',\n",
       " 'O',\n",
       " 'O',\n",
       " 'O',\n",
       " 'O',\n",
       " 'O',\n",
       " 'O',\n",
       " 'O',\n",
       " 'O',\n",
       " 'O',\n",
       " 'O',\n",
       " 'O',\n",
       " 'O',\n",
       " 'O',\n",
       " 'O',\n",
       " 'O',\n",
       " 'O',\n",
       " 'O',\n",
       " 'O',\n",
       " 'O',\n",
       " 'O',\n",
       " 'O',\n",
       " 'O',\n",
       " 'O',\n",
       " 'O',\n",
       " 'O',\n",
       " 'O',\n",
       " 'O',\n",
       " 'O',\n",
       " 'O',\n",
       " 'O',\n",
       " 'O',\n",
       " 'O',\n",
       " 'O',\n",
       " 'O',\n",
       " 'O',\n",
       " 'O',\n",
       " 'O',\n",
       " 'O']"
      ]
     },
     "execution_count": 51,
     "metadata": {},
     "output_type": "execute_result"
    }
   ],
   "source": [
    "predictions = [id2label[label] for label in preds.tolist()]\n",
    "predictions"
   ]
  },
  {
   "cell_type": "code",
   "execution_count": null,
   "id": "6a91b9a1",
   "metadata": {},
   "outputs": [
    {
     "ename": "NameError",
     "evalue": "name 'predictions' is not defined",
     "output_type": "error",
     "traceback": [
      "\u001b[0;31m---------------------------------------------------------------------------\u001b[0m",
      "\u001b[0;31mNameError\u001b[0m                                 Traceback (most recent call last)",
      "Cell \u001b[0;32mIn[1], line 1\u001b[0m\n\u001b[0;32m----> 1\u001b[0m \u001b[38;5;28;01mfor\u001b[39;00m item \u001b[38;5;129;01min\u001b[39;00m \u001b[38;5;28mzip\u001b[39m(\u001b[43mpredictions\u001b[49m, temp[\u001b[38;5;124m\"\u001b[39m\u001b[38;5;124minput_ids\u001b[39m\u001b[38;5;124m\"\u001b[39m]):\n\u001b[1;32m      2\u001b[0m     word \u001b[38;5;241m=\u001b[39m tokenizer\u001b[38;5;241m.\u001b[39mconvert_ids_to_tokens(item[\u001b[38;5;241m1\u001b[39m])\n\u001b[1;32m      3\u001b[0m     \u001b[38;5;28;01mif\u001b[39;00m word \u001b[38;5;129;01min\u001b[39;00m [\u001b[38;5;124m'\u001b[39m\u001b[38;5;124m[CLS]\u001b[39m\u001b[38;5;124m'\u001b[39m, \u001b[38;5;124m'\u001b[39m\u001b[38;5;124m[SEP]\u001b[39m\u001b[38;5;124m'\u001b[39m, \u001b[38;5;124m'\u001b[39m\u001b[38;5;124m[PAD]\u001b[39m\u001b[38;5;124m'\u001b[39m]:\n\u001b[1;32m      4\u001b[0m         \u001b[38;5;66;03m# print(item[0])\u001b[39;00m\n",
      "\u001b[0;31mNameError\u001b[0m: name 'predictions' is not defined"
     ]
    }
   ],
   "source": [
    "for item in zip(predictions, temp[\"input_ids\"]):\n",
    "    word = tokenizer.convert_ids_to_tokens(item[1])\n",
    "    if word in ['[CLS]', '[SEP]', '[PAD]']:\n",
    "        # print(item[0])\n",
    "        continue\n",
    "    print(item[0],\"--------\" ,word, \"------\")"
   ]
  },
  {
   "cell_type": "code",
   "execution_count": 133,
   "id": "c3cc06e9",
   "metadata": {},
   "outputs": [
    {
     "data": {
      "text/plain": [
       "[('chrome', (2, 2)), ('book', (3, 3))]"
      ]
     },
     "execution_count": 133,
     "metadata": {},
     "output_type": "execute_result"
    }
   ],
   "source": [
    "def extract_aspects(input_ids, predictions, tokenizer):\n",
    "    tokens = tokenizer.convert_ids_to_tokens(input_ids[0])\n",
    "    \n",
    "    aspects = []\n",
    "    current_aspect = []\n",
    "    current_position = []\n",
    "    current_idx = 0\n",
    "\n",
    "    for idx, (token, label) in enumerate(zip(tokens, predictions[0])):\n",
    "        # Skip special tokens\n",
    "        if token in [tokenizer.cls_token, tokenizer.sep_token, tokenizer.pad_token]:\n",
    "            continue\n",
    "            \n",
    "        label_tag = id2label.get(label, \"O\")\n",
    "        \n",
    "        if label_tag == \"B-ASP\":\n",
    "            # Save previous aspect if exists\n",
    "            if current_aspect:\n",
    "                aspects.append((\" \".join(current_aspect), (current_position[0], current_position[-1])))\n",
    "            # Start new aspect\n",
    "            current_aspect = [token]\n",
    "            current_position = [idx]\n",
    "        elif label_tag == \"I-ASP\" and current_aspect:\n",
    "            # Continue current aspect\n",
    "            current_aspect.append(token)\n",
    "            current_position.append(idx)\n",
    "        else:\n",
    "            # End previous aspect if exists\n",
    "            if current_aspect:\n",
    "                aspects.append((\" \".join(current_aspect), (current_position[0], current_position[-1])))\n",
    "                current_aspect = []\n",
    "                current_position = []\n",
    "\n",
    "    # Catch any leftover aspect\n",
    "    if current_aspect:\n",
    "        aspects.append((\" \".join(current_aspect), (current_position[0], current_position[-1])))\n",
    "\n",
    "    # Clean up tokens (remove ##)\n",
    "    clean_aspects = []\n",
    "    for aspect, pos in aspects:\n",
    "        # Handle WordPiece tokens (tokens that start with ##)\n",
    "        cleaned = \"\"\n",
    "        for word in aspect.split():\n",
    "            if word.startswith(\"##\"):\n",
    "                cleaned += word[2:]  # Remove ## prefix\n",
    "            else:\n",
    "                if cleaned:\n",
    "                    cleaned += \" \"\n",
    "                cleaned += word\n",
    "        clean_aspects.append((cleaned, pos))\n",
    "\n",
    "    return clean_aspects\n",
    "\n",
    "\n",
    "extracted_aspects = extract_aspects(input_ids, predictions, tokenizer)\n",
    "extracted_aspects"
   ]
  },
  {
   "cell_type": "code",
   "execution_count": null,
   "id": "6ed2406b",
   "metadata": {},
   "outputs": [],
   "source": []
  }
 ],
 "metadata": {
  "kernelspec": {
   "display_name": "base",
   "language": "python",
   "name": "python3"
  },
  "language_info": {
   "codemirror_mode": {
    "name": "ipython",
    "version": 3
   },
   "file_extension": ".py",
   "mimetype": "text/x-python",
   "name": "python",
   "nbconvert_exporter": "python",
   "pygments_lexer": "ipython3",
   "version": "3.12.2"
  }
 },
 "nbformat": 4,
 "nbformat_minor": 5
}
